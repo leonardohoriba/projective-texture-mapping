{
 "cells": [
  {
   "cell_type": "code",
   "execution_count": 5,
   "metadata": {},
   "outputs": [
    {
     "data": {
      "text/plain": [
       "(array([[   0,    0,    1,    0,    0,    0,    0,    0,    0,    0,    0,\n",
       "            0],\n",
       "        [   0,    0,    0,    0,    0,    1,    0,    0,    0,    0,    0,\n",
       "            0],\n",
       "        [   0,    0,    0,    0,    0,    0,    0,    0,    1,    0,    0,\n",
       "            0],\n",
       "        [ 300,    0,    1,    0,    0,    0,    0,    0,    0, -553,    0,\n",
       "            0],\n",
       "        [   0,    0,    0,  300,    0,    1,    0,    0,    0, -681,    0,\n",
       "            0],\n",
       "        [   0,    0,    0,    0,    0,    0,  300,    0,    1,   -1,    0,\n",
       "            0],\n",
       "        [   0,  400,    1,    0,    0,    0,    0,    0,    0,    0, -264,\n",
       "            0],\n",
       "        [   0,    0,    0,    0,  400,    1,    0,    0,    0,    0, -887,\n",
       "            0],\n",
       "        [   0,    0,    0,    0,    0,    0,    0,  400,    1,    0,   -1,\n",
       "            0],\n",
       "        [ 300,  400,    1,    0,    0,    0,    0,    0,    0,    0,    0,\n",
       "         -532],\n",
       "        [   0,    0,    0,  300,  400,    1,    0,    0,    0,    0,    0,\n",
       "         -877],\n",
       "        [   0,    0,    0,    0,    0,    0,  300,  400,    1,    0,    0,\n",
       "           -1]]),\n",
       " array([251, 693,   1,   0,   0,   0,   0,   0,   0,   0,   0,   0]))"
      ]
     },
     "execution_count": 5,
     "metadata": {},
     "output_type": "execute_result"
    }
   ],
   "source": [
    "# a11 = (251,693)\n",
    "# a12 = (553,681)\n",
    "# a21 = (264,887)\n",
    "# a22 = (532,877)\n",
    "\n",
    "# 5o ano - COMP 2023\n",
    "# Alu Leonardo Horiba - 19411\n",
    "# 1o Ten Marin - 19027\n",
    "# Cap Caique Nery - \n",
    "\n",
    "from PIL import Image\n",
    "import numpy as np\n",
    "\n",
    "# cano=Image.open(\"storage/german_cano.jpg\")\n",
    "# caique=Image.open(\"storage/caique.jpeg\")\n",
    "\n",
    "x,y = 300,400\n",
    "z,w = 145,689\n",
    "\n",
    "\n",
    "#Pontos da textura\n",
    "PO=[(0,0,1),(x,0,1),(0,y,1),(x,y,1)]\n",
    "\n",
    "#Pontos de destino (Utilizamos o programa GIMP para achar as coordenadas)\n",
    "PD=[(251,693,1),(553,681,1),(264,887,1),(532,877,1)]\n",
    "#PD=[(465,147,1),(753,209,1),(465,339,1),(753,365,1)]\n",
    "\n",
    "#Construindo a matriz A usada no sistema:\n",
    "# A.t = B ----> t tem como coordenadas as entradas da transformacao\n",
    "A = np.array([[0 for x in range(12)] for y in range(12)])\n",
    "B = np.array([0 for x in range(12)])\n",
    "\n",
    "for i in range(0,3):\n",
    "    \tB[i] = PD[0][i]\n",
    "\n",
    "for i in range(0,4):\n",
    "    for j in range(0,3):\n",
    "\t    A[3*i][j] = A[3*i+1][j+3] = A[3*i+2][j+6] = PO[i][j]\n",
    "    if i>0:\n",
    "        A[3*i][8+i] = -PD[i][0]\n",
    "        A[3*i+1][8+i] = -PD[i][1]\n",
    "        A[3*i+2][8+i] = -PD[i][2]\n",
    "A,B\n",
    "\n",
    "t = np.linalg.inv(A).dot(B)\n",
    "T = np.array([[t[3*j+i] for i in range(3)] for j in range(3)])\n",
    "\n",
    "t,T"
   ]
  }
 ],
 "metadata": {
  "kernelspec": {
   "display_name": "venv",
   "language": "python",
   "name": "python3"
  },
  "language_info": {
   "codemirror_mode": {
    "name": "ipython",
    "version": 3
   },
   "file_extension": ".py",
   "mimetype": "text/x-python",
   "name": "python",
   "nbconvert_exporter": "python",
   "pygments_lexer": "ipython3",
   "version": "3.7.11"
  },
  "orig_nbformat": 4,
  "vscode": {
   "interpreter": {
    "hash": "43c7f7b5ceadad6a8b0b3ed9d418b8b36e8bbd8364c9d7acc237ac118e1457ba"
   }
  }
 },
 "nbformat": 4,
 "nbformat_minor": 2
}
